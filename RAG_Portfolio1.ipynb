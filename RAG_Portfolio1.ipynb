{
 "cells": [
  {
   "cell_type": "code",
   "execution_count": 26,
   "metadata": {},
   "outputs": [],
   "source": [
    "#pip install langchain openai faiss-cpu chromadb tiktoken sentence-transformers jupyter\n",
    "#pip install -U langchain-community\n"
   ]
  },
  {
   "cell_type": "code",
   "execution_count": 27,
   "metadata": {},
   "outputs": [
    {
     "name": "stdout",
     "output_type": "stream",
     "text": [
      "\n",
      "Chunk 1:\n",
      "\"The Eiffel Tower is located in Paris and was completed in 1889.\\n\"\n",
      "    \"It was designed by Gustave Eiffel and is 300 meters tall.\\n\"\n",
      "    \"Today, it is one of the most visited monuments in the world.\\n\"\n",
      "    \"The tower has three levels accessible to visitors.\\n\"\n",
      "    \"Originally, it was criticized by some of France's leading artists and intellectuals.\\n\"\n",
      "    \"Now, it's a global cultural icon of France and one of the most recognizable structures in the world.\\n\"\n",
      "\n",
      "Chunk 2:\n",
      "\"It was built for the 1889 Exposition Universelle (World's Fair) to celebrate the 100th anniversary of the French Revolution.\\n\"\n",
      "    \"The tower is made of wrought iron and weighs about 10,000 tons.\\n\"\n"
     ]
    }
   ],
   "source": [
    "from langchain_community.document_loaders import TextLoader\n",
    "from langchain.text_splitter import RecursiveCharacterTextSplitter\n",
    "\n",
    "# Load your sample document\n",
    "loader = TextLoader(\"Sample.txt\")\n",
    "docs = loader.load() # quite interesting here\n",
    "\n",
    "\n",
    "# Split the document into manageable chunks\n",
    "splitter = RecursiveCharacterTextSplitter(chunk_size=500, chunk_overlap=50)\n",
    "chunks = splitter.split_documents(docs)\n",
    "\n",
    "# Preview the chunks\n",
    "for i, chunk in enumerate(chunks):\n",
    "    print(f\"\\nChunk {i+1}:\\n{chunk.page_content}\")\n"
   ]
  },
  {
   "cell_type": "code",
   "execution_count": 28,
   "metadata": {},
   "outputs": [],
   "source": [
    "import os\n",
    "from getpass import getpass\n",
    "os.environ[\"OPENAI_API_KEY\"] = getpass(\"Enter your OpenAI API Key: \")"
   ]
  },
  {
   "cell_type": "code",
   "execution_count": 29,
   "metadata": {},
   "outputs": [],
   "source": [
    "# Embed the doc chunks:\n",
    "from langchain.embeddings import OpenAIEmbeddings  # or HuggingFaceEmbeddings\n",
    "from langchain.vectorstores import FAISS\n",
    "# now let us create the embeddings:\n",
    "embeddings = OpenAIEmbeddings()\n",
    "\n",
    "# create FAISS vector store from the document chunks\n",
    "vectorstore = FAISS.from_documents(chunks, embeddings)"
   ]
  },
  {
   "cell_type": "code",
   "execution_count": 30,
   "metadata": {},
   "outputs": [],
   "source": [
    "# then we want to create a retriever:\n",
    "retriever = vectorstore.as_retriever()"
   ]
  },
  {
   "cell_type": "code",
   "execution_count": 31,
   "metadata": {},
   "outputs": [],
   "source": [
    "from langchain.chains import RetrievalQA\n",
    "from langchain.chat_models import ChatOpenAI  # or OpenAI, depending on use\n",
    "\n",
    "qa_chain = RetrievalQA.from_chain_type(\n",
    "    llm=ChatOpenAI(),               # Uses GPT-4 or GPT-3.5-turbo\n",
    "    retriever=retriever,\n",
    "    return_source_documents=True    # So you can see which chunk it used\n",
    ")\n"
   ]
  },
  {
   "cell_type": "code",
   "execution_count": 35,
   "metadata": {},
   "outputs": [
    {
     "name": "stdout",
     "output_type": "stream",
     "text": [
      "Answer The Eiffel Tower was designed by Gustave Eiffel.\n",
      "\n",
      "Source 1:\n",
      "\"The Eiffel Tower is located in Paris and was completed in 1889.\\n\"\n",
      "    \"It was designed by Gustave Eiffel and is 300 meters tall.\\n\"\n",
      "    \"Today, it is one of the most visited monuments in the world.\\n\"\n",
      "    \"The tower has three levels accessible to visitors.\\n\"\n",
      "    \"Originally, it was criticized by some of France's leading artists and intellectuals.\\n\"\n",
      "    \"Now, it's a global cultural icon of France and one of the most recognizable structures in the world.\\n\"\n",
      "\n",
      "Source 2:\n",
      "\"It was built for the 1889 Exposition Universelle (World's Fair) to celebrate the 100th anniversary of the French Revolution.\\n\"\n",
      "    \"The tower is made of wrought iron and weighs about 10,000 tons.\\n\"\n"
     ]
    }
   ],
   "source": [
    "# in this step lets run a query:\n",
    "query = \"Who designed the Eiffel Tower?\"\n",
    "result = qa_chain(query)\n",
    "\n",
    "print(\"Answer\", result[\"result\"])\n",
    "\n",
    "for i, doc in enumerate(result[\"source_documents\"]):\n",
    "    print(f\"\\nSource {i+1}:\\n{doc.page_content}\")"
   ]
  },
  {
   "cell_type": "code",
   "execution_count": 36,
   "metadata": {},
   "outputs": [],
   "source": [
    "# this is a test again"
   ]
  }
 ],
 "metadata": {
  "kernelspec": {
   "display_name": "Python 3",
   "language": "python",
   "name": "python3"
  },
  "language_info": {
   "codemirror_mode": {
    "name": "ipython",
    "version": 3
   },
   "file_extension": ".py",
   "mimetype": "text/x-python",
   "name": "python",
   "nbconvert_exporter": "python",
   "pygments_lexer": "ipython3",
   "version": "3.11.5"
  }
 },
 "nbformat": 4,
 "nbformat_minor": 2
}
