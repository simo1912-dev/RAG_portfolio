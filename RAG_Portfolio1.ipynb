{
 "cells": [
  {
   "cell_type": "code",
   "execution_count": 1,
   "metadata": {},
   "outputs": [],
   "source": [
    "#pip install langchain openai faiss-cpu chromadb tiktoken sentence-transformers jupyter\n",
    "#pip install -U langchain-community\n"
   ]
  },
  {
   "cell_type": "code",
   "execution_count": 5,
   "metadata": {},
   "outputs": [
    {
     "name": "stdout",
     "output_type": "stream",
     "text": [
      "\n",
      "Chunk 1:\n",
      "\"The Eiffel Tower is located in Paris and was completed in 1889.\\n\"\n",
      "    \"It was designed by Gustave Eiffel and is 300 meters tall.\\n\"\n",
      "    \"Today, it is one of the most visited monuments in the world.\\n\"\n",
      "    \"The tower has three levels accessible to visitors.\\n\"\n",
      "    \"Originally, it was criticized by some of France's leading artists and intellectuals.\\n\"\n",
      "    \"Now, it's a global cultural icon of France and one of the most recognizable structures in the world.\\n\"\n",
      "\n",
      "Chunk 2:\n",
      "\"It was built for the 1889 Exposition Universelle (World's Fair) to celebrate the 100th anniversary of the French Revolution.\\n\"\n",
      "    \"The tower is made of wrought iron and weighs about 10,000 tons.\\n\"\n"
     ]
    }
   ],
   "source": [
    "from langchain_community.document_loaders import TextLoader\n",
    "from langchain.text_splitter import RecursiveCharacterTextSplitter\n",
    "\n",
    "# Load your sample document\n",
    "loader = TextLoader(\"Sample.txt\")\n",
    "docs = loader.load()\n",
    "\n",
    "# Split the document into manageable chunks\n",
    "splitter = RecursiveCharacterTextSplitter(chunk_size=500, chunk_overlap=50)\n",
    "chunks = splitter.split_documents(docs)\n",
    "\n",
    "# Preview the chunks\n",
    "for i, chunk in enumerate(chunks):\n",
    "    print(f\"\\nChunk {i+1}:\\n{chunk.page_content}\")"
   ]
  },
  {
   "cell_type": "code",
   "execution_count": null,
   "metadata": {},
   "outputs": [],
   "source": []
  }
 ],
 "metadata": {
  "kernelspec": {
   "display_name": "Python 3",
   "language": "python",
   "name": "python3"
  },
  "language_info": {
   "codemirror_mode": {
    "name": "ipython",
    "version": 3
   },
   "file_extension": ".py",
   "mimetype": "text/x-python",
   "name": "python",
   "nbconvert_exporter": "python",
   "pygments_lexer": "ipython3",
   "version": "3.11.5"
  }
 },
 "nbformat": 4,
 "nbformat_minor": 2
}
